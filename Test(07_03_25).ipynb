{
  "nbformat": 4,
  "nbformat_minor": 0,
  "metadata": {
    "colab": {
      "provenance": [],
      "authorship_tag": "ABX9TyOAEb9hx32/qS0UPj97Kl/r",
      "include_colab_link": true
    },
    "kernelspec": {
      "name": "python3",
      "display_name": "Python 3"
    },
    "language_info": {
      "name": "python"
    }
  },
  "cells": [
    {
      "cell_type": "markdown",
      "metadata": {
        "id": "view-in-github",
        "colab_type": "text"
      },
      "source": [
        "<a href=\"https://colab.research.google.com/github/srijaanreddyk/Srijan_MetaSciforTraining/blob/main/Test(07_03_25).ipynb\" target=\"_parent\"><img src=\"https://colab.research.google.com/assets/colab-badge.svg\" alt=\"Open In Colab\"/></a>"
      ]
    },
    {
      "cell_type": "code",
      "execution_count": 4,
      "metadata": {
        "colab": {
          "base_uri": "https://localhost:8080/"
        },
        "id": "MVtMikm5l5Un",
        "outputId": "a1ee4bb0-5354-48ca-b89c-84570097295d"
      },
      "outputs": [
        {
          "output_type": "stream",
          "name": "stdout",
          "text": [
            "Enter a number:56\n",
            "56 is an even number\n"
          ]
        }
      ],
      "source": [
        "#1.Write a python program to check whether the number is even or odd\n",
        "def check_even_odd(num):\n",
        "  if num%2==0:\n",
        "    print(f\"{num} is an even number\")\n",
        "  else:\n",
        "    print(f\"{num} is an odd number\")\n",
        "number=int(input(\"Enter a number:\"))\n",
        "check_even_odd(number)"
      ]
    },
    {
      "cell_type": "code",
      "source": [
        "#2.Write a python function to reverse a string without using built-in functions\n",
        "def reverse_string(s):\n",
        "  reversed_s=\"\"\n",
        "  for char in s:\n",
        "    reversed_s=char+reversed_s\n",
        "  return reversed_s\n",
        "string=input(\"Enter a string:\")\n",
        "reversed_string=reverse_string(string)\n",
        "print(f\"The reversed string is:{reversed_string}\")"
      ],
      "metadata": {
        "colab": {
          "base_uri": "https://localhost:8080/"
        },
        "id": "snuYr9FEm2PH",
        "outputId": "7808ee60-0f0c-461e-b12f-10f31d902434"
      },
      "execution_count": 5,
      "outputs": [
        {
          "output_type": "stream",
          "name": "stdout",
          "text": [
            "Enter a string:Hello\n",
            "The reversed string is:olleH\n"
          ]
        }
      ]
    },
    {
      "cell_type": "code",
      "source": [],
      "metadata": {
        "id": "WoCilZljsYvZ"
      },
      "execution_count": null,
      "outputs": []
    },
    {
      "cell_type": "code",
      "source": [
        "#3. Write a python program to find the largest number in the list\n",
        "def find_largest_number(numbers):\n",
        "    return max(numbers)\n",
        "\n",
        "\n",
        "num_list = [10, 45, 67, 89, 23, 56]\n",
        "\n",
        "\n",
        "largest = find_largest_number(num_list)\n",
        "print(\"The largest number in the list is:\", largest)"
      ],
      "metadata": {
        "colab": {
          "base_uri": "https://localhost:8080/"
        },
        "id": "xkNLSBiMp5So",
        "outputId": "6d42397a-911d-49b2-ae2d-1564fe795b13"
      },
      "execution_count": 15,
      "outputs": [
        {
          "output_type": "stream",
          "name": "stdout",
          "text": [
            "The largest number in the list is: 89\n"
          ]
        }
      ]
    },
    {
      "cell_type": "code",
      "source": [
        "#4.Write a python function to check if a given string is a palindrome\n",
        "def is_palindrome(s):\n",
        "  return s==s[::-1]\n",
        "string=input(\"Enter a string:\")\n",
        "if is_palindrome(string):\n",
        "  print(f\"{string} is a palindrome\")\n",
        "else:\n",
        "  print(f\"{string} is not a palindrome\")"
      ],
      "metadata": {
        "id": "KFWwkVFjsaXe"
      },
      "execution_count": null,
      "outputs": []
    },
    {
      "cell_type": "code",
      "source": [
        "#5.Write a python program to count the occurences of each character in a given string\n",
        "def count_characters(s):\n",
        "    char_count = {}\n",
        "    for char in s:\n",
        "        char_count[char] = char_count.get(char, 0) + 1\n",
        "    return char_count\n",
        "string = input(\"Enter a string: \")\n",
        "\n",
        "\n",
        "char_frequency = count_characters(string)\n",
        "print(\"Character frequencies:\", char_frequency)"
      ],
      "metadata": {
        "colab": {
          "base_uri": "https://localhost:8080/"
        },
        "id": "RUhoFc0euR-4",
        "outputId": "8b229932-4d9d-42e4-8091-b59f126f351a"
      },
      "execution_count": 25,
      "outputs": [
        {
          "output_type": "stream",
          "name": "stdout",
          "text": [
            "Enter a string: summer\n",
            "Character frequencies: {'s': 1, 'u': 1, 'm': 2, 'e': 1, 'r': 1}\n"
          ]
        }
      ]
    },
    {
      "cell_type": "markdown",
      "source": [
        "Object-Oriented Programming Questions\n",
        "\n",
        "1) What is the difference between a class and an object in python\n",
        "\n",
        "Ans)Class: A class is a blue print or template for creating objects.It defines attributes and methods that describe the behaviour of the objects.\n",
        "\n",
        "Object: An object is an instance of a class.It represents a specific entity created using the class blueprint,with its own and unique data.\n"
      ],
      "metadata": {
        "id": "YK-FUkqdxsv-"
      }
    },
    {
      "cell_type": "markdown",
      "source": [
        "2) Explain the concept of Inheritance in Python with a program\n",
        "\n",
        "Ans) Inheritance is a feature in object oriented programming where a child class inherits the attributes and methods from the parent class."
      ],
      "metadata": {
        "id": "NaOb9b791edu"
      }
    },
    {
      "cell_type": "code",
      "source": [
        "#Python Program\n",
        "class Animal:\n",
        "  def __init__(self,name):\n",
        "     self.name=name\n",
        "  def make_sound(self):\n",
        "\n",
        "    print(\"Some generic animal sound\")\n",
        "class Dog(Animal):\n",
        "  def make_sound(self):\n",
        "        print(\"Bark! Bark!\")\n",
        "animal = Animal(\"Generic Animal\")\n",
        "dog = Dog(\"Buddy\")\n",
        "animal.make_sound()\n",
        "dog.make_sound()\n"
      ],
      "metadata": {
        "colab": {
          "base_uri": "https://localhost:8080/"
        },
        "id": "IPCAFLxH2Jly",
        "outputId": "238b0444-f768-430a-b9d0-999772543656"
      },
      "execution_count": 27,
      "outputs": [
        {
          "output_type": "stream",
          "name": "stdout",
          "text": [
            "Some generic animal sound\n",
            "Bark! Bark!\n"
          ]
        }
      ]
    },
    {
      "cell_type": "markdown",
      "source": [
        "3)Explain Method Overriding in Python?\n",
        "\n",
        "Ans) Method Overriding is a feature in object-oriented programming where a child class provided a specific implementation of a method that is already defined in its parent class"
      ],
      "metadata": {
        "id": "T5AYrU0g6Olk"
      }
    },
    {
      "cell_type": "code",
      "source": [
        "class Animal:\n",
        "  def make_sound(self):\n",
        "    print(\"Some generic animal sound\")\n",
        "class Dog(Animal):\n",
        "  def make_sound(self):\n",
        "    print(\"Bark! Bark!\")\n",
        "animal=Animal()\n",
        "dog=Dog()\n",
        "animal.make_sound()\n",
        "dog.make_sound()"
      ],
      "metadata": {
        "colab": {
          "base_uri": "https://localhost:8080/"
        },
        "id": "Nk6PvKkM4wUN",
        "outputId": "84d4e6b4-9ca9-4640-96dd-d042ba56eda9"
      },
      "execution_count": 28,
      "outputs": [
        {
          "output_type": "stream",
          "name": "stdout",
          "text": [
            "Some generic animal sound\n",
            "Bark! Bark!\n"
          ]
        }
      ]
    },
    {
      "cell_type": "markdown",
      "source": [
        "4)Explain Encapsulation in python with example\n",
        "\n",
        "Ans)Encapsulation is one of the fundamental principles of object-oriented programming (OOP). It restricts direct access to certain attributes and methods, ensuring controlled data access and modification."
      ],
      "metadata": {
        "id": "dwpNviqT8l8a"
      }
    },
    {
      "cell_type": "code",
      "source": [
        "class BankAccount:\n",
        "    def __init__(self, account_holder, balance):\n",
        "        self.account_holder = account_holder\n",
        "        self._bank_name = \"HDFC Bank\"\n",
        "        self.__balance = balance\n",
        "\n",
        "    def deposit(self, amount):\n",
        "        self.__balance += amount\n",
        "        print(f\"Deposited {amount}. New balance: {self.__balance}\")\n",
        "\n",
        "    def withdraw(self, amount):\n",
        "        if amount > self.__balance:\n",
        "            print(\"Insufficient balance!\")\n",
        "        else:\n",
        "            self.__balance -= amount\n",
        "            print(f\"Withdrawn {amount}. Remaining balance: {self.__balance}\")\n",
        "\n",
        "    def get_balance(self):\n",
        "        return self.__balance\n",
        "\n",
        "account = BankAccount(\"Arjun\", 1000)\n",
        "\n",
        "print(account.account_holder)\n",
        "\n",
        "\n",
        "print(account._bank_name)\n",
        "\n",
        "# Accessing private attribute directly (will raise an error)\n",
        "# print(account.__balance)  # AttributeError\n",
        "\n",
        "print(account.get_balance())\n",
        "\n",
        "\n",
        "account.deposit(500)\n",
        "account.withdraw(200)\n"
      ],
      "metadata": {
        "colab": {
          "base_uri": "https://localhost:8080/"
        },
        "id": "15x064BA8xUs",
        "outputId": "14a4ab8a-2b49-47ea-a6af-ab856c2b2852"
      },
      "execution_count": 31,
      "outputs": [
        {
          "output_type": "stream",
          "name": "stdout",
          "text": [
            "Arjun\n",
            "HDFC Bank\n",
            "1000\n",
            "Deposited 500. New balance: 1500\n",
            "Withdrawn 200. Remaining balance: 1300\n"
          ]
        }
      ]
    },
    {
      "cell_type": "markdown",
      "source": [
        "5)What is the difference between an instance method, class method, and static method in Python?\n",
        "\n",
        "Ans) Instance Method: An instance method is a method that operates on an instance of a class. It takes self as the first parameter, which represents the instance itself. These methods can access and modify instance attributes and call other instance methods.\n",
        "\n",
        "Class Method: A class method is bound to the class rather than instances. It takes cls as the first parameter, which represents the class itself. It is defined using the @classmethod decorator and is used to modify class-level attributes.\n",
        "\n",
        "Static Method: A static method does not depend on instance or class variables. It is defined using the @staticmethod decorator and behaves like a regular function inside a class. It is primarily used when logic is related to the class but does not require access to instance or class attributes."
      ],
      "metadata": {
        "id": "0KOQoGjV9IVc"
      }
    },
    {
      "cell_type": "markdown",
      "source": [],
      "metadata": {
        "id": "pwzB5D_s1S9n"
      }
    }
  ]
}