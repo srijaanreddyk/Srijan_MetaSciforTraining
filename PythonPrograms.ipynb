{
  "nbformat": 4,
  "nbformat_minor": 0,
  "metadata": {
    "colab": {
      "provenance": [],
      "authorship_tag": "ABX9TyMvEnORd9mKro6Szzk6xg59",
      "include_colab_link": true
    },
    "kernelspec": {
      "name": "python3",
      "display_name": "Python 3"
    },
    "language_info": {
      "name": "python"
    }
  },
  "cells": [
    {
      "cell_type": "markdown",
      "metadata": {
        "id": "view-in-github",
        "colab_type": "text"
      },
      "source": [
        "<a href=\"https://colab.research.google.com/github/srijaanreddyk/Srijan_MetaSciforTraining/blob/main/PythonPrograms.ipynb\" target=\"_parent\"><img src=\"https://colab.research.google.com/assets/colab-badge.svg\" alt=\"Open In Colab\"/></a>"
      ]
    },
    {
      "cell_type": "code",
      "execution_count": 11,
      "metadata": {
        "colab": {
          "base_uri": "https://localhost:8080/"
        },
        "id": "GE0X-OI2ywV8",
        "outputId": "ccf25ae0-3501-492d-850f-f2ac3955e17d"
      },
      "outputs": [
        {
          "output_type": "stream",
          "name": "stdout",
          "text": [
            "Hello World\n"
          ]
        }
      ],
      "source": [
        "#1st Program\n",
        "print(\"Hello World\")"
      ]
    },
    {
      "cell_type": "code",
      "source": [
        "#2nd Program\n",
        "x=10\n",
        "y=\"Python\"\n",
        "print(f\"x:{x},Type:{type(x)}\")\n",
        "print(f\"y:{y},Type:{type(y)}\")"
      ],
      "metadata": {
        "colab": {
          "base_uri": "https://localhost:8080/"
        },
        "id": "gyyezNGay_bv",
        "outputId": "956b6504-b415-4289-d6f3-54982e943767"
      },
      "execution_count": 4,
      "outputs": [
        {
          "output_type": "stream",
          "name": "stdout",
          "text": [
            "x:10,Type:<class 'int'>\n",
            "y:Python,Type:<class 'str'>\n"
          ]
        }
      ]
    },
    {
      "cell_type": "code",
      "source": [
        "#3rd Program\n",
        "numbers=[15,25,35,45]\n",
        "sum_numbers=sum(numbers)\n",
        "avg_numbers=sum_numbers/len(numbers)\n",
        "print(f\"sum of the numbers is {sum_numbers}\")\n",
        "print(f\"average of the numbers is {avg_numbers}\")"
      ],
      "metadata": {
        "colab": {
          "base_uri": "https://localhost:8080/"
        },
        "id": "e5mcBJOuzYJ6",
        "outputId": "b9113ede-8440-47d5-b078-57a3c05872da"
      },
      "execution_count": 5,
      "outputs": [
        {
          "output_type": "stream",
          "name": "stdout",
          "text": [
            "sum of the numbers is 120\n",
            "average of the numbers is 30.0\n"
          ]
        }
      ]
    },
    {
      "cell_type": "code",
      "source": [
        "#4th Program\n",
        "a=int(input(\"Enter the first number:\"))\n",
        "b=int(input(\"Enter the second number:\"))\n",
        "print(f\"sum of {a} and {b} is {a+b}\")\n",
        "print(f\"difference of {a} and {b} is {a-b}\")\n",
        "print(f\"product of {a} and {b} is {a*b}\")\n",
        "print(f\"division of {a} and {b} is {a/b}\")"
      ],
      "metadata": {
        "colab": {
          "base_uri": "https://localhost:8080/"
        },
        "id": "zZGICQlhzxe4",
        "outputId": "3ad22f65-6b70-4637-a479-30b714c9bb2a"
      },
      "execution_count": 6,
      "outputs": [
        {
          "output_type": "stream",
          "name": "stdout",
          "text": [
            "Enter the first number:54\n",
            "Enter the second number:46\n",
            "sum of 54 and 46 is 100\n",
            "difference of 54 and 46 is 8\n",
            "product of 54 and 46 is 2484\n",
            "division of 54 and 46 is 1.173913043478261\n"
          ]
        }
      ]
    },
    {
      "cell_type": "code",
      "source": [
        "#5th Program\n",
        "name = \"Alice\"\n",
        "age = 25\n",
        "print(\"%s is %d years old.\" % (name, age))\n",
        "print(\"{} is {} years old.\".format(name, age))\n",
        "print(f\"{name} is {age} years old.\")"
      ],
      "metadata": {
        "colab": {
          "base_uri": "https://localhost:8080/"
        },
        "id": "mtC1R3ss0qin",
        "outputId": "8a042575-8440-4116-9d91-885034913eac"
      },
      "execution_count": 7,
      "outputs": [
        {
          "output_type": "stream",
          "name": "stdout",
          "text": [
            "Alice is 25 years old.\n",
            "Alice is 25 years old.\n",
            "Alice is 25 years old.\n"
          ]
        }
      ]
    },
    {
      "cell_type": "code",
      "source": [
        "#6th Program\n",
        "string_input = input(\"Enter a string: \")\n",
        "vowels = \"AEIOUaeiou\"\n",
        "vowel_count = sum(1 for char in string_input if char in vowels)\n",
        "print(f\"Uppercase: {string_input.upper()}\")\n",
        "print(f\"Lowercase: {string_input.lower()}\")\n",
        "print(f\"Vowel Count: {vowel_count}\")\n",
        "print(f\"Reversed: {string_input[::-1]}\")"
      ],
      "metadata": {
        "colab": {
          "base_uri": "https://localhost:8080/"
        },
        "id": "qWtfgQnE0tWD",
        "outputId": "5a41c2d3-5433-483e-d64a-f3b49b0e4084"
      },
      "execution_count": 10,
      "outputs": [
        {
          "output_type": "stream",
          "name": "stdout",
          "text": [
            "Enter a string: Hi\n",
            "Uppercase: HI\n",
            "Lowercase: hi\n",
            "Vowel Count: 1\n",
            "Reversed: iH\n"
          ]
        }
      ]
    },
    {
      "cell_type": "code",
      "source": [
        "#7th Program\n",
        "num=int(input(\"Enter a number:\"))\n",
        "if num % 2 == 0:\n",
        "    print(\"Even\")\n",
        "else:\n",
        "    print(\"Odd\")"
      ],
      "metadata": {
        "colab": {
          "base_uri": "https://localhost:8080/"
        },
        "id": "b1-outat15_q",
        "outputId": "80406e2c-b4f8-4b77-988d-d7b24d29ddba"
      },
      "execution_count": 20,
      "outputs": [
        {
          "output_type": "stream",
          "name": "stdout",
          "text": [
            "Enter a number:24\n",
            "Even\n"
          ]
        }
      ]
    },
    {
      "cell_type": "code",
      "source": [
        "#8th Program\n",
        "print(\"Prime numbers between 1 and 50:\")\n",
        "for num in range(2, 51):\n",
        "    for i in range(2, int(num ** 0.5) + 1):\n",
        "        if num % i == 0:\n",
        "            break\n",
        "    else:\n",
        "        print(num, end=\" \")\n",
        "print()"
      ],
      "metadata": {
        "colab": {
          "base_uri": "https://localhost:8080/"
        },
        "id": "yfQSy1e92x3o",
        "outputId": "be2ff9c6-f9dc-46f7-de3e-7ec02f11daf8"
      },
      "execution_count": 21,
      "outputs": [
        {
          "output_type": "stream",
          "name": "stdout",
          "text": [
            "Prime numbers between 1 and 50:\n",
            "2 3 5 7 11 13 17 19 23 29 31 37 41 43 47 \n"
          ]
        }
      ]
    },
    {
      "cell_type": "code",
      "source": [
        "#9th Program\n",
        "def factorial(n):\n",
        "  if n==0 or n==1:\n",
        "    return 1\n",
        "  return n*factorial(n-1)\n",
        "num=int(input(\"Enter a number:\"))\n",
        "print(f\"Factorial of {num} is {factorial(num)}\")"
      ],
      "metadata": {
        "colab": {
          "base_uri": "https://localhost:8080/"
        },
        "id": "J1xr_EID3prZ",
        "outputId": "adb0e726-5f5e-4387-cd54-186d5f12b480"
      },
      "execution_count": 24,
      "outputs": [
        {
          "output_type": "stream",
          "name": "stdout",
          "text": [
            "Enter a number:5\n",
            "Factorial of 5 is 120\n"
          ]
        }
      ]
    },
    {
      "cell_type": "code",
      "source": [
        "#10th Program\n",
        "class Car:\n",
        "  def __init__(self,brand,model,year):\n",
        "     self.brand=brand\n",
        "     self.model=model\n",
        "     self.year=year\n",
        "  def display_info(self):\n",
        "    print(f\"Brand:{self.brand},Model:{self.model},Year:{self.year}\")\n",
        "car1=Car(\"Toyota\",\"Camry\",2022)\n",
        "car2=Car(\"Honda\",\"Civic\",2021)\n",
        "car1.display_info()\n",
        "car2.display_info()"
      ],
      "metadata": {
        "colab": {
          "base_uri": "https://localhost:8080/"
        },
        "id": "C61FEQax4FXz",
        "outputId": "fe458bff-1ae1-42fc-9d1b-82baddc33188"
      },
      "execution_count": 25,
      "outputs": [
        {
          "output_type": "stream",
          "name": "stdout",
          "text": [
            "Brand:Toyota,Model:Camry,Year:2022\n",
            "Brand:Honda,Model:Civic,Year:2021\n"
          ]
        }
      ]
    },
    {
      "cell_type": "code",
      "source": [
        "#11th Program\n",
        "students={\"Alice\":85,\"Shankar\":35,\"Dhanush\":65}\n",
        "print(\"Students and scores:\",students)\n",
        "top_student=max(students,key=students.get)\n",
        "print(\"Top student:\",top_student)"
      ],
      "metadata": {
        "colab": {
          "base_uri": "https://localhost:8080/"
        },
        "id": "X8pxTcP-4j0n",
        "outputId": "1189781c-0640-4e7e-8cc0-b1bd06fa4fee"
      },
      "execution_count": 26,
      "outputs": [
        {
          "output_type": "stream",
          "name": "stdout",
          "text": [
            "Students and scores: {'Alice': 85, 'Shankar': 35, 'Dhanush': 65}\n",
            "Top student: Alice\n"
          ]
        }
      ]
    },
    {
      "cell_type": "code",
      "source": [
        "#12th Program\n",
        "import math\n",
        "num=int(input(\"Enter a number:\"))\n",
        "print(f\"Square Root:{math.sqrt(num)},Factorial:{math.factorial(num)}\")"
      ],
      "metadata": {
        "colab": {
          "base_uri": "https://localhost:8080/"
        },
        "id": "pC3BRZBI5Bmy",
        "outputId": "670892e4-1df7-4336-d365-3744de365a21"
      },
      "execution_count": 28,
      "outputs": [
        {
          "output_type": "stream",
          "name": "stdout",
          "text": [
            "Enter a number:12\n",
            "Square Root:3.4641016151377544,Factorial:479001600\n"
          ]
        }
      ]
    },
    {
      "cell_type": "code",
      "source": [
        "#13th Program\n",
        "name=input(\"Enter your name:\")\n",
        "age=input(\"Enter your age:\")\n",
        "print(f\"Hello {name},you are {age} years old.!\")"
      ],
      "metadata": {
        "colab": {
          "base_uri": "https://localhost:8080/"
        },
        "id": "PR8B4L_k5i34",
        "outputId": "7e1b6afc-8135-41fb-9fb8-5b9b7e9ec90a"
      },
      "execution_count": 29,
      "outputs": [
        {
          "output_type": "stream",
          "name": "stdout",
          "text": [
            "Enter your name:Srijan\n",
            "Enter your age:20\n",
            "Hello Srijan,you are 20 years old.!\n"
          ]
        }
      ]
    }
  ]
}