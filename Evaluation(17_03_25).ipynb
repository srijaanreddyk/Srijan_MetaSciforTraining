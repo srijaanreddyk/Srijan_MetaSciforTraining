{
  "nbformat": 4,
  "nbformat_minor": 0,
  "metadata": {
    "colab": {
      "provenance": [],
      "authorship_tag": "ABX9TyPTSkQpvhArE+0jQK8Rfxj4",
      "include_colab_link": true
    },
    "kernelspec": {
      "name": "python3",
      "display_name": "Python 3"
    },
    "language_info": {
      "name": "python"
    }
  },
  "cells": [
    {
      "cell_type": "markdown",
      "metadata": {
        "id": "view-in-github",
        "colab_type": "text"
      },
      "source": [
        "<a href=\"https://colab.research.google.com/github/srijaanreddyk/Srijan_MetaSciforTraining/blob/main/Evaluation(17_03_25).ipynb\" target=\"_parent\"><img src=\"https://colab.research.google.com/assets/colab-badge.svg\" alt=\"Open In Colab\"/></a>"
      ]
    },
    {
      "cell_type": "code",
      "execution_count": 5,
      "metadata": {
        "colab": {
          "base_uri": "https://localhost:8080/"
        },
        "id": "EwakS3T9mabp",
        "outputId": "32127af6-ca19-406a-b004-fe412f3eaeb9"
      },
      "outputs": [
        {
          "output_type": "stream",
          "name": "stdout",
          "text": [
            "Buddy barks\n",
            "Buddy is warm-blooded\n",
            "Bruce makes a sound\n",
            "Bruce is warm-blooded\n",
            "Bruce is a mammal that can fly\n"
          ]
        }
      ],
      "source": [
        "class Animal:\n",
        "    def __init__(self, name):\n",
        "        self.name = name\n",
        "    def speak(self):\n",
        "        print(f\"{self.name} makes a sound\")\n",
        "\n",
        "class Mammal(Animal):\n",
        "    def __init__(self, name):\n",
        "        super().__init__(name)\n",
        "\n",
        "    def warm_blooded(self):\n",
        "        print(f\"{self.name} is warm-blooded\")\n",
        "\n",
        "class Bird(Animal):\n",
        "    def __init__(self, name):\n",
        "        super().__init__(name)\n",
        "\n",
        "    def fly(self):\n",
        "        print(f\"{self.name} can fly\")\n",
        "\n",
        "class Dog(Mammal):\n",
        "    def __init__(self, name):\n",
        "        super().__init__(name)\n",
        "\n",
        "    def speak(self):\n",
        "        print(f\"{self.name} barks\")\n",
        "\n",
        "class Bat(Mammal, Bird):\n",
        "    def __init__(self, name):\n",
        "        super().__init__(name)\n",
        "\n",
        "    def unique_trait(self):\n",
        "        print(f\"{self.name} is a mammal that can fly\")\n",
        "\n",
        "dog = Dog(\"Buddy\")\n",
        "dog.speak()\n",
        "dog.warm_blooded()\n",
        "\n",
        "bat = Bat(\"Bruce\")\n",
        "bat.speak()\n",
        "bat.warm_blooded()\n",
        "bat.unique_trait()\n"
      ]
    }
  ]
}